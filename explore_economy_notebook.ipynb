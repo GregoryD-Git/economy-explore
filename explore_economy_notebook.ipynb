# This is an attempt at making a Jupyter Notebook
Some more text here
'''
y = [1, 2, 5, 10]
x = diff(y)
print(x)
'''
# Did this work?
